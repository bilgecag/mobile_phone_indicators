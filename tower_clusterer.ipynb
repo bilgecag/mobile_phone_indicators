{
 "cells": [
  {
   "cell_type": "code",
   "execution_count": 58,
   "id": "5dc3246c-f3e4-435f-8406-252a5adc3093",
   "metadata": {},
   "outputs": [],
   "source": [
    "import geopandas as gpd\n",
    "import numpy as np\n",
    "import pandas as pd\n",
    "from helper_functions.tower_helper import read_tower_data\n",
    "from helper_functions.map_helper import read_map_district\n",
    "from helper_functions.tower_clustering import cluster_towers, get_centroids\n",
    "from helper_functions.voronoi_helper import from_towers_to_voronoi\n",
    "import warnings\n",
    "district_maps = \"/Users/bilgecagaydogdu/Desktop/Geodirectory/turkey_administrativelevels0_1_2/tur_polbnda_adm2.shp\"\n",
    "tower_location=\"/Volumes/Extreme Pro/Cell_Tower_Locations/cell_city_district.txt\"\n",
    "voronoi_location=\"/Volumes/Extreme Pro/Cell_Tower_Locations/turkcell_voronoi/voronoi.shp\"\n",
    "cluster_location='/Volumes/Extreme Pro/Cell_Tower_Locations/clustered_towers/clusters.shp'"
   ]
  },
  {
   "cell_type": "code",
   "execution_count": 49,
   "id": "367b3306-38f7-4e72-a468-a722ef2e707e",
   "metadata": {},
   "outputs": [],
   "source": [
    "df_tower=read_tower_data(tower_location,voronoi_location)\n",
    "gdf_districts = read_map_district(district_maps)\n",
    "radians= cluster_towers(df_tower, dist_metric='haversine', t=1)\n",
    "df_centroids=get_centroids(radians)\n",
    "gdf_centroids=gpd.GeoDataFrame(df_centroids, geometry=gpd.points_from_xy(df_centroids.centroid_LNG,\n",
    "                                                                                  df_centroids.centroid_LAT),\n",
    "                                 crs=\"EPSG:4326\")\n",
    "gdf_centroids=gdf_centroids[['site_id','cluster','centroid_LNG','centroid_LAT']]\n",
    "gdf_centroids=gdf_centroids.rename(columns={'centroid_LNG':'cluster_lng','centroid_LAT':'cluster_lat'})\n",
    "gdf_centroids=gpd.GeoDataFrame(gdf_centroids, geometry=gpd.points_from_xy(gdf_centroids.cluster_lng,\n",
    "                                                                                  gdf_centroids.cluster_lat),\n",
    "                                 crs=\"EPSG:4326\")\n",
    "gdf_centroids=gdf_centroids.drop_duplicates(subset='cluster').reset_index(drop=True)\n",
    "gdf_centroids.to_file('/Volumes/Extreme Pro/Cell_Tower_Locations/clustered_towers/clusters.shp')\n",
    "gdf_centroids[['site_id','cluster']].to_csv('/Volumes/Extreme Pro/Cell_Tower_Locations/site_cluster_match.csv')"
   ]
  },
  {
   "cell_type": "code",
   "execution_count": 75,
   "id": "54fc7dee-53b2-4f84-ad48-ffa816b85570",
   "metadata": {},
   "outputs": [],
   "source": [
    "gdf_centroids=gpd.read_file(cluster_location)"
   ]
  },
  {
   "cell_type": "code",
   "execution_count": 55,
   "id": "e2612ad2-3683-4f76-be03-7f6b473cda5d",
   "metadata": {},
   "outputs": [],
   "source": [
    "df_tower=read_tower_data(tower_location,voronoi_location)"
   ]
  },
  {
   "cell_type": "code",
   "execution_count": 59,
   "id": "f3d25558-74c1-440e-a691-2f773f2a6a0c",
   "metadata": {},
   "outputs": [
    {
     "name": "stderr",
     "output_type": "stream",
     "text": [
      "/Users/bilgecagaydogdu/anaconda3/envs/geo_env/lib/python3.8/site-packages/IPython/core/interactiveshell.py:3508: FutureWarning: The `op` parameter is deprecated and will be removed in a future release. Please use the `predicate` parameter instead.\n",
      "  exec(code_obj, self.user_global_ns, self.user_ns)\n",
      "/Users/bilgecagaydogdu/Desktop/EARTHQUAKE/mobile_phone_indicators/helper_functions/voronoi_helper.py:60: ShapelyDeprecationWarning: The 'cascaded_union()' function is deprecated. Use 'unary_union()' instead.\n",
      "  boundary_shape = cascaded_union(boundary.geometry)\n"
     ]
    },
    {
     "name": "stdout",
     "output_type": "stream",
     "text": [
      "[[28.98790111 41.03787859]\n",
      " [28.95109209 41.05168977]\n",
      " [28.97499646 41.04178012]\n",
      " ...\n",
      " [32.22945162 41.35474121]\n",
      " [34.70373969 40.73142496]\n",
      " [30.06022685 37.37213161]]\n"
     ]
    }
   ],
   "source": [
    "gdf, poly_shapes_list =from_towers_to_voronoi(cluster_location, district_maps,crs=\"EPSG:4326\")"
   ]
  },
  {
   "cell_type": "code",
   "execution_count": 60,
   "id": "928fa9bf-3f12-4098-99a4-24478367f0f2",
   "metadata": {},
   "outputs": [],
   "source": [
    "gdf=gdf.set_geometry('voronoi_geometry')"
   ]
  },
  {
   "cell_type": "code",
   "execution_count": 76,
   "id": "5351392a-44f2-44a7-ae7d-d7f5bed65619",
   "metadata": {},
   "outputs": [],
   "source": [
    "gdf_merged=gpd.GeoDataFrame(gdf_centroids.merge(gdf[['cluster','voronoi_geometry']],on='cluster',how='left'),geometry='geometry')"
   ]
  },
  {
   "cell_type": "code",
   "execution_count": 81,
   "id": "9b0ced87-2dbb-4a74-83ab-e66d3304ca52",
   "metadata": {},
   "outputs": [],
   "source": [
    "gdf_merged=gdf_merged.set_geometry('voronoi_geometry')"
   ]
  },
  {
   "cell_type": "code",
   "execution_count": 84,
   "id": "60599753-0d5a-44d4-8195-7879c5f4443a",
   "metadata": {},
   "outputs": [],
   "source": [
    "gdf_merged.to_csv('/Volumes/Extreme Pro/Cell_Tower_Locations/clustered_towers/cluster_voronoi.csv')"
   ]
  },
  {
   "cell_type": "code",
   "execution_count": null,
   "id": "67d288ec-8ee9-41b6-8c81-4e1ce021bc5d",
   "metadata": {},
   "outputs": [],
   "source": []
  },
  {
   "cell_type": "code",
   "execution_count": null,
   "id": "2caf381f-6510-48c8-9aa0-74ce27995999",
   "metadata": {},
   "outputs": [],
   "source": []
  },
  {
   "cell_type": "code",
   "execution_count": null,
   "id": "3883d80c-487b-4fe4-9016-d464bbbca85a",
   "metadata": {},
   "outputs": [],
   "source": []
  },
  {
   "cell_type": "code",
   "execution_count": null,
   "id": "c251b9a3-c155-4ba3-809d-5ee966a7c6d3",
   "metadata": {},
   "outputs": [],
   "source": []
  }
 ],
 "metadata": {
  "kernelspec": {
   "display_name": "Python 3 (ipykernel)",
   "language": "python",
   "name": "python3"
  },
  "language_info": {
   "codemirror_mode": {
    "name": "ipython",
    "version": 3
   },
   "file_extension": ".py",
   "mimetype": "text/x-python",
   "name": "python",
   "nbconvert_exporter": "python",
   "pygments_lexer": "ipython3",
   "version": "3.8.18"
  }
 },
 "nbformat": 4,
 "nbformat_minor": 5
}
