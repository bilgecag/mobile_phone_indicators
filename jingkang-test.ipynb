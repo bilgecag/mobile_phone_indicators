{
 "cells": [
  {
   "cell_type": "code",
   "execution_count": 3,
   "id": "569beea7-1709-4198-8dfd-c64add4313ba",
   "metadata": {},
   "outputs": [],
   "source": [
    "import geopandas as gpd\n",
    "import pandas as pd\n",
    "import numpy as np\n",
    "import seaborn as sns\n",
    "import matplotlib.pyplot as plts\n",
    "from shapely.geometry import Point\n",
    "import pandas as pd\n",
    "import warnings\n",
    "import matplotlib.colors as mcolors\n",
    "import matplotlib.pyplot as plt\n",
    "warnings.filterwarnings(\"ignore\", category=UserWarning, message=\"Geometry is in a geographic CRS.\")\n",
    "from mpl_toolkits.axes_grid1 import make_axes_locatable\n",
    "from datetime import timedelta\n",
    "from helper_functions.finegrained_helper import read_fine_grained,customer_signals_analysis,calculate_date_values,filter_customers\n",
    "from helper_functions.antenna_helper import read_antenna_data,dataframe_length_calculator,antenna_variable_histogram,antenna_aggregate_calls\n",
    "from helper_functions.tower_helper import read_tower_data,find_sites_in_buffer,plot_sites,create_point_buffer\n",
    "from segregation_indicators.social_indicators import social_connectedness_antenna\n",
    "from mobility_indicators.simple_migration_flow_indicators import frequency_based_aggregation\n",
    "from mobility_indicators.mobility_indicators import o_d_matrix\n",
    "from helper_functions.map_helper import read_map_district\n",
    "from helper_functions.utilities import get_location_level\n",
    "\n",
    "from mobility_indicators.simple_migration_flow_indicators import daily_home_location_series\n",
    "target_crs = \"EPSG:32635\"  # Change as per your requirement\n",
    "district_maps = \"/Users/bilgecagaydogdu/Desktop/Geodirectory/turkey_administrativelevels0_1_2/tur_polbnda_adm2.shp\"\n",
    "tower_location=\"/Volumes/Extreme Pro/Cell_Tower_Locations/cell_city_district.txt\"\n",
    "voronoi=\"/Volumes/Extreme Pro/Cell_Tower_Locations/turkcell_voronoi/voronoi.shp\"\n",
    "\n",
    "fgrained=\"/Volumes/Extreme Pro/test/FGM_7_2.txt\""
   ]
  },
  {
   "cell_type": "code",
   "execution_count": null,
   "id": "be57637a-ad3d-4195-8904-bbd40aae9693",
   "metadata": {},
   "outputs": [],
   "source": []
  }
 ],
 "metadata": {
  "kernelspec": {
   "display_name": "Python 3 (ipykernel)",
   "language": "python",
   "name": "python3"
  },
  "language_info": {
   "codemirror_mode": {
    "name": "ipython",
    "version": 3
   },
   "file_extension": ".py",
   "mimetype": "text/x-python",
   "name": "python",
   "nbconvert_exporter": "python",
   "pygments_lexer": "ipython3",
   "version": "3.8.18"
  }
 },
 "nbformat": 4,
 "nbformat_minor": 5
}
