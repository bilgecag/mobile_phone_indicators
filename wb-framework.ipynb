{
 "cells": [
  {
   "cell_type": "code",
   "execution_count": 10,
   "id": "10286472-8e25-4ef7-91c3-31a2adbe1eca",
   "metadata": {},
   "outputs": [],
   "source": [
    "import pandas as pd\n",
    "from datetime import datetime\n",
    "from helper_functions.finegrained_helper import read_fine_grained\n",
    "# Original data\n",
    "\n",
    "# Convert to DataFrame\n",
    "df = read_fine_grained('/Volumes/Extreme Pro/Data-CDR/Outgoing/Fine_grained/FGM_7.txt',datatype='CDR')\n",
    "\n",
    "# Preprocess and fit to the schema\n",
    "df['call_datetime'] = df['time']\n",
    "df['msisdn'] = df['customer_id']\n",
    "df['location_id'] = df['site_id_caller'] # Assuming CALER_SITE_ID is the correct spelling for the caller location\n",
    "\n",
    "# Select relevant columns according to the schema\n",
    "\n",
    "# Convert call_datetime to string with desired format if needed\n",
    "df = df[['msisdn', 'call_datetime', 'location_id']]\n",
    "\n",
    "df['call_datetime'] = df['call_datetime'].dt.strftime('%Y-%m-%d %H:%M:%S')"
   ]
  },
  {
   "cell_type": "code",
   "execution_count": 12,
   "id": "c54427da-e51a-4079-a08d-c04a4b5b728c",
   "metadata": {},
   "outputs": [],
   "source": [
    "df.to_csv('/Volumes/Extreme Pro/Data-CDR/wb_fgm_7_outgoing.csv')"
   ]
  },
  {
   "cell_type": "code",
   "execution_count": null,
   "id": "b0128a8f-060c-4a5d-8a9e-fcd48a29fb3c",
   "metadata": {},
   "outputs": [],
   "source": [
    "\n",
    "# Save to CSV\n",
    "target_crs = \"EPSG:32635\"  # Change as per your requirement\n",
    "district_maps = \"/Users/bilgecagaydogdu/Desktop/Geodirectory/turkey_administrativelevels0_1_2/tur_polbnda_adm2.shp\"\n",
    "tower_location=\"/Volumes/Extreme Pro/Data - Location/Hummingbird_Location_Data/A_Cell_Tower_Locations/cell_city_district.txt\"\n",
    "gdf = gpd.read_file(\"/Volumes/Extreme Pro/Data - Location/Hummingbird_Location_Data/A_Cell_Tower_Locations/turkcell_voronoi/voronoi.shp\", geometry='geometry')\n",
    "gdf.crs=\"EPSG:5636\"\n",
    "gdf=gdf.to_crs(target_crs)\n",
    "\n",
    "df_tower=read_tower_data(tower_location)\n",
    "gdf_districts = read_map_district(district_maps)\n",
    "df_tower[\"city_district\"]=df_tower['city'].astype(str) + '_' + df_tower['district'].astype(str)\n",
    "gdf_districts=df_tower.drop_duplicates(subset=[\"city_district_id\"]).drop(columns=['site_id','city','district']).merge(gdf_districts, on=['city_district'],how='left')"
   ]
  }
 ],
 "metadata": {
  "kernelspec": {
   "display_name": "Python 3",
   "language": "python",
   "name": "python3"
  },
  "language_info": {
   "codemirror_mode": {
    "name": "ipython",
    "version": 3
   },
   "file_extension": ".py",
   "mimetype": "text/x-python",
   "name": "python",
   "nbconvert_exporter": "python",
   "pygments_lexer": "ipython3",
   "version": "3.8.18"
  }
 },
 "nbformat": 4,
 "nbformat_minor": 5
}
