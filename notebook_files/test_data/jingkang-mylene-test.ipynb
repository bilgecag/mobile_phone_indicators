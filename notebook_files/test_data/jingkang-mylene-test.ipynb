{
 "cells": [
  {
   "cell_type": "code",
   "execution_count": 1,
   "id": "569beea7-1709-4198-8dfd-c64add4313ba",
   "metadata": {},
   "outputs": [],
   "source": [
    "import sys\n",
    "\n",
    "sys.path.append('/Users/bilgecagaydogdu/Desktop/mobile_phone_indicators/')\n",
    "\n",
    "import geopandas as gpd\n",
    "import pandas as pd\n",
    "import numpy as np\n",
    "import seaborn as sns\n",
    "import matplotlib.pyplot as plts\n",
    "from shapely.geometry import Point\n",
    "import pandas as pd\n",
    "import warnings\n",
    "import matplotlib.colors as mcolors\n",
    "import matplotlib.pyplot as plt\n",
    "warnings.filterwarnings(\"ignore\", category=UserWarning, message=\"Geometry is in a geographic CRS.\")\n",
    "from mpl_toolkits.axes_grid1 import make_axes_locatable\n",
    "from datetime import timedelta\n",
    "from helper_functions.finegrained_helper import read_fine_grained,customer_signals_analysis,calculate_date_values,filter_customers,fine_grained_to_antenna\n",
    "from helper_functions.antenna_helper import read_antenna_data,dataframe_length_calculator,antenna_variable_histogram,antenna_aggregate_calls\n",
    "from helper_functions.tower_helper import read_tower_data,find_sites_in_buffer,plot_sites,create_point_buffer\n",
    "from segregation_indicators.social_indicators import social_connectedness_antenna\n",
    "from mobility_indicators.simple_migration_flow_indicators import frequency_based_aggregation\n",
    "from mobility_indicators.mobility_indicators import o_d_matrix\n",
    "from helper_functions.map_helper import read_map_district\n",
    "from helper_functions.utilities import get_location_level\n",
    "\n",
    "from mobility_indicators.simple_migration_flow_indicators import daily_home_location_series\n",
    "target_crs = \"EPSG:32635\"  # Change as per your requirement\n",
    "district_maps = \"/Users/bilgecagaydogdu/Desktop/Geodirectory/turkey_administrativelevels0_1_2/tur_polbnda_adm2.shp\"\n",
    "tower_location=\"/Volumes/Extreme Pro/test/Mylene-Jingkang/clustered_towers/clusters.shp\"\n",
    "district_maps = \"/Users/bilgecagaydogdu/Desktop/Geodirectory/turkey_administrativelevels0_1_2/tur_polbnda_adm2.shp\"\n",
    "\n",
    "fgrained=\"/Volumes/Extreme Pro/test/Mylene-Jingkang/FGM_{}.txt\"\n",
    "\n",
    "flist_test=['7', '7_2','7_3']"
   ]
  },
  {
   "cell_type": "code",
   "execution_count": 2,
   "id": "d419e93d-2420-4b2b-8757-36c074c7b570",
   "metadata": {},
   "outputs": [],
   "source": [
    "df=read_fine_grained(\"/Volumes/Extreme Pro/test/Mylene-Jingkang/FGM_7.txt\",\"CDR\")\n",
    "site=fine_grained_to_antenna(df,\"CDR\")"
   ]
  },
  {
   "cell_type": "code",
   "execution_count": 10,
   "id": "db24d0a9-6890-447c-b16d-9ed816073855",
   "metadata": {},
   "outputs": [],
   "source": [
    "df = calculate_date_values(df)"
   ]
  },
  {
   "cell_type": "code",
   "execution_count": 11,
   "id": "f76efa0d-f7df-4876-8750-53ff9303f290",
   "metadata": {},
   "outputs": [],
   "source": [
    "cust_df = customer_signals_analysis(df, 'site_id_caller')"
   ]
  },
  {
   "cell_type": "code",
   "execution_count": 14,
   "id": "0d6363fb-4cd7-43a7-8fc7-57eb874e07ee",
   "metadata": {},
   "outputs": [],
   "source": [
    "filtered_df=filter_customers(cust_df, 5, 2, 2, customer_list=None, include_customers=True)"
   ]
  },
  {
   "cell_type": "code",
   "execution_count": 16,
   "id": "4052995a-e67b-4cc8-b307-d4d42c00f446",
   "metadata": {},
   "outputs": [],
   "source": [
    "df_tower=gpd.read_file('/Volumes/Extreme Pro/test/Mylene-Jingkang/tower_locations/tower_locations.shp',geometry='voronoi_geometry')\\\n",
    ".rename(columns={'city_distr':'city_district_id','city_dis_1':'city_district','geometry':'voronoi_geometry'})\n",
    "df_tower['geometry'] = df_tower['voronoi_geometry'].centroid"
   ]
  },
  {
   "cell_type": "code",
   "execution_count": 28,
   "id": "be57637a-ad3d-4195-8904-bbd40aae9693",
   "metadata": {},
   "outputs": [
    {
     "name": "stdout",
     "output_type": "stream",
     "text": [
      "Daily home locations are being calculated...\n"
     ]
    },
    {
     "name": "stderr",
     "output_type": "stream",
     "text": [
      "100%|███████████████████████████████████████| 302/302 [00:00<00:00, 1657.16it/s]\n"
     ]
    },
    {
     "name": "stdout",
     "output_type": "stream",
     "text": [
      "Day15 is completed.\n"
     ]
    },
    {
     "name": "stderr",
     "output_type": "stream",
     "text": [
      "100%|███████████████████████████████████████| 308/308 [00:00<00:00, 1608.10it/s]\n"
     ]
    },
    {
     "name": "stdout",
     "output_type": "stream",
     "text": [
      "Day14 is completed.\n"
     ]
    },
    {
     "name": "stderr",
     "output_type": "stream",
     "text": [
      "100%|███████████████████████████████████████| 328/328 [00:00<00:00, 1627.34it/s]\n"
     ]
    },
    {
     "name": "stdout",
     "output_type": "stream",
     "text": [
      "Day12 is completed.\n"
     ]
    },
    {
     "name": "stderr",
     "output_type": "stream",
     "text": [
      "100%|███████████████████████████████████████| 319/319 [00:00<00:00, 1667.33it/s]\n"
     ]
    },
    {
     "name": "stdout",
     "output_type": "stream",
     "text": [
      "Day11 is completed.\n"
     ]
    },
    {
     "name": "stderr",
     "output_type": "stream",
     "text": [
      "100%|███████████████████████████████████████| 317/317 [00:00<00:00, 1648.82it/s]\n"
     ]
    },
    {
     "name": "stdout",
     "output_type": "stream",
     "text": [
      "Day10 is completed.\n"
     ]
    },
    {
     "name": "stderr",
     "output_type": "stream",
     "text": [
      "100%|███████████████████████████████████████| 329/329 [00:00<00:00, 1701.89it/s]\n"
     ]
    },
    {
     "name": "stdout",
     "output_type": "stream",
     "text": [
      "Day9 is completed.\n"
     ]
    },
    {
     "name": "stderr",
     "output_type": "stream",
     "text": [
      "100%|███████████████████████████████████████| 313/313 [00:00<00:00, 1682.84it/s]\n"
     ]
    },
    {
     "name": "stdout",
     "output_type": "stream",
     "text": [
      "Day8 is completed.\n"
     ]
    },
    {
     "name": "stderr",
     "output_type": "stream",
     "text": [
      "100%|███████████████████████████████████████| 324/324 [00:00<00:00, 1641.50it/s]\n"
     ]
    },
    {
     "name": "stdout",
     "output_type": "stream",
     "text": [
      "Day7 is completed.\n"
     ]
    },
    {
     "name": "stderr",
     "output_type": "stream",
     "text": [
      "100%|███████████████████████████████████████| 327/327 [00:00<00:00, 1689.96it/s]\n"
     ]
    },
    {
     "name": "stdout",
     "output_type": "stream",
     "text": [
      "Day6 is completed.\n"
     ]
    },
    {
     "name": "stderr",
     "output_type": "stream",
     "text": [
      "100%|███████████████████████████████████████| 328/328 [00:00<00:00, 1646.71it/s]\n"
     ]
    },
    {
     "name": "stdout",
     "output_type": "stream",
     "text": [
      "Day5 is completed.\n"
     ]
    },
    {
     "name": "stderr",
     "output_type": "stream",
     "text": [
      "100%|███████████████████████████████████████| 327/327 [00:00<00:00, 1716.94it/s]\n"
     ]
    },
    {
     "name": "stdout",
     "output_type": "stream",
     "text": [
      "Day4 is completed.\n"
     ]
    },
    {
     "name": "stderr",
     "output_type": "stream",
     "text": [
      "100%|███████████████████████████████████████| 329/329 [00:00<00:00, 1646.14it/s]\n"
     ]
    },
    {
     "name": "stdout",
     "output_type": "stream",
     "text": [
      "Day3 is completed.\n"
     ]
    },
    {
     "name": "stderr",
     "output_type": "stream",
     "text": [
      "100%|███████████████████████████████████████| 308/308 [00:00<00:00, 1552.35it/s]\n"
     ]
    },
    {
     "name": "stdout",
     "output_type": "stream",
     "text": [
      "Day2 is completed.\n"
     ]
    },
    {
     "name": "stderr",
     "output_type": "stream",
     "text": [
      "100%|███████████████████████████████████████| 312/312 [00:00<00:00, 1585.11it/s]\n"
     ]
    },
    {
     "name": "stdout",
     "output_type": "stream",
     "text": [
      "Day1 is completed.\n"
     ]
    },
    {
     "name": "stderr",
     "output_type": "stream",
     "text": [
      "100%|███████████████████████████████████████| 328/328 [00:00<00:00, 1612.85it/s]\n"
     ]
    },
    {
     "name": "stdout",
     "output_type": "stream",
     "text": [
      "Day13 is completed.\n",
      "The calculation of daily locations is done.\n",
      "7\n",
      "Daily home locations are being calculated...\n"
     ]
    },
    {
     "name": "stderr",
     "output_type": "stream",
     "text": [
      "100%|████████████████████████████████████████| 324/324 [00:00<00:00, 968.77it/s]\n"
     ]
    },
    {
     "name": "stdout",
     "output_type": "stream",
     "text": [
      "Day30 is completed.\n"
     ]
    },
    {
     "name": "stderr",
     "output_type": "stream",
     "text": [
      "100%|███████████████████████████████████████| 314/314 [00:00<00:00, 1586.03it/s]\n"
     ]
    },
    {
     "name": "stdout",
     "output_type": "stream",
     "text": [
      "Day29 is completed.\n"
     ]
    },
    {
     "name": "stderr",
     "output_type": "stream",
     "text": [
      "100%|███████████████████████████████████████| 316/316 [00:00<00:00, 1663.17it/s]\n"
     ]
    },
    {
     "name": "stdout",
     "output_type": "stream",
     "text": [
      "Day28 is completed.\n"
     ]
    },
    {
     "name": "stderr",
     "output_type": "stream",
     "text": [
      "100%|███████████████████████████████████████| 350/350 [00:00<00:00, 1702.25it/s]\n"
     ]
    },
    {
     "name": "stdout",
     "output_type": "stream",
     "text": [
      "Day26 is completed.\n"
     ]
    },
    {
     "name": "stderr",
     "output_type": "stream",
     "text": [
      "100%|███████████████████████████████████████| 349/349 [00:00<00:00, 1628.11it/s]\n"
     ]
    },
    {
     "name": "stdout",
     "output_type": "stream",
     "text": [
      "Day25 is completed.\n"
     ]
    },
    {
     "name": "stderr",
     "output_type": "stream",
     "text": [
      "100%|███████████████████████████████████████| 342/342 [00:00<00:00, 1630.87it/s]\n"
     ]
    },
    {
     "name": "stdout",
     "output_type": "stream",
     "text": [
      "Day23 is completed.\n"
     ]
    },
    {
     "name": "stderr",
     "output_type": "stream",
     "text": [
      "100%|███████████████████████████████████████| 322/322 [00:00<00:00, 1659.46it/s]\n"
     ]
    },
    {
     "name": "stdout",
     "output_type": "stream",
     "text": [
      "Day22 is completed.\n"
     ]
    },
    {
     "name": "stderr",
     "output_type": "stream",
     "text": [
      "100%|███████████████████████████████████████| 351/351 [00:00<00:00, 1631.00it/s]\n"
     ]
    },
    {
     "name": "stdout",
     "output_type": "stream",
     "text": [
      "Day21 is completed.\n"
     ]
    },
    {
     "name": "stderr",
     "output_type": "stream",
     "text": [
      "100%|███████████████████████████████████████| 348/348 [00:00<00:00, 1692.77it/s]\n"
     ]
    },
    {
     "name": "stdout",
     "output_type": "stream",
     "text": [
      "Day20 is completed.\n"
     ]
    },
    {
     "name": "stderr",
     "output_type": "stream",
     "text": [
      "100%|███████████████████████████████████████| 342/342 [00:00<00:00, 1692.21it/s]\n"
     ]
    },
    {
     "name": "stdout",
     "output_type": "stream",
     "text": [
      "Day18 is completed.\n"
     ]
    },
    {
     "name": "stderr",
     "output_type": "stream",
     "text": [
      "100%|███████████████████████████████████████| 341/341 [00:00<00:00, 1581.68it/s]\n"
     ]
    },
    {
     "name": "stdout",
     "output_type": "stream",
     "text": [
      "Day16 is completed.\n"
     ]
    },
    {
     "name": "stderr",
     "output_type": "stream",
     "text": [
      "100%|███████████████████████████████████████| 322/322 [00:00<00:00, 1624.09it/s]\n"
     ]
    },
    {
     "name": "stdout",
     "output_type": "stream",
     "text": [
      "Day31 is completed.\n"
     ]
    },
    {
     "name": "stderr",
     "output_type": "stream",
     "text": [
      "100%|███████████████████████████████████████| 341/341 [00:00<00:00, 1721.94it/s]\n"
     ]
    },
    {
     "name": "stdout",
     "output_type": "stream",
     "text": [
      "Day27 is completed.\n"
     ]
    },
    {
     "name": "stderr",
     "output_type": "stream",
     "text": [
      "100%|███████████████████████████████████████| 345/345 [00:00<00:00, 1704.34it/s]\n"
     ]
    },
    {
     "name": "stdout",
     "output_type": "stream",
     "text": [
      "Day24 is completed.\n"
     ]
    },
    {
     "name": "stderr",
     "output_type": "stream",
     "text": [
      "100%|███████████████████████████████████████| 340/340 [00:00<00:00, 1660.91it/s]\n"
     ]
    },
    {
     "name": "stdout",
     "output_type": "stream",
     "text": [
      "Day19 is completed.\n"
     ]
    },
    {
     "name": "stderr",
     "output_type": "stream",
     "text": [
      "100%|███████████████████████████████████████| 345/345 [00:00<00:00, 1652.94it/s]\n"
     ]
    },
    {
     "name": "stdout",
     "output_type": "stream",
     "text": [
      "Day17 is completed.\n",
      "The calculation of daily locations is done.\n",
      "7_2\n",
      "Daily home locations are being calculated...\n"
     ]
    },
    {
     "name": "stderr",
     "output_type": "stream",
     "text": [
      "100%|███████████████████████████████████████| 340/340 [00:00<00:00, 1603.13it/s]\n"
     ]
    },
    {
     "name": "stdout",
     "output_type": "stream",
     "text": [
      "Day15 is completed.\n"
     ]
    },
    {
     "name": "stderr",
     "output_type": "stream",
     "text": [
      "100%|███████████████████████████████████████| 349/349 [00:00<00:00, 1599.05it/s]\n"
     ]
    },
    {
     "name": "stdout",
     "output_type": "stream",
     "text": [
      "Day14 is completed.\n"
     ]
    },
    {
     "name": "stderr",
     "output_type": "stream",
     "text": [
      "100%|███████████████████████████████████████| 334/334 [00:00<00:00, 1607.49it/s]\n"
     ]
    },
    {
     "name": "stdout",
     "output_type": "stream",
     "text": [
      "Day13 is completed.\n"
     ]
    },
    {
     "name": "stderr",
     "output_type": "stream",
     "text": [
      "100%|███████████████████████████████████████| 347/347 [00:00<00:00, 1622.94it/s]\n"
     ]
    },
    {
     "name": "stdout",
     "output_type": "stream",
     "text": [
      "Day11 is completed.\n"
     ]
    },
    {
     "name": "stderr",
     "output_type": "stream",
     "text": [
      "100%|███████████████████████████████████████| 352/352 [00:00<00:00, 1658.67it/s]\n"
     ]
    },
    {
     "name": "stdout",
     "output_type": "stream",
     "text": [
      "Day10 is completed.\n"
     ]
    },
    {
     "name": "stderr",
     "output_type": "stream",
     "text": [
      "100%|███████████████████████████████████████| 355/355 [00:00<00:00, 1572.17it/s]\n"
     ]
    },
    {
     "name": "stdout",
     "output_type": "stream",
     "text": [
      "Day9 is completed.\n"
     ]
    },
    {
     "name": "stderr",
     "output_type": "stream",
     "text": [
      "100%|███████████████████████████████████████| 353/353 [00:00<00:00, 1699.66it/s]\n"
     ]
    },
    {
     "name": "stdout",
     "output_type": "stream",
     "text": [
      "Day7 is completed.\n"
     ]
    },
    {
     "name": "stderr",
     "output_type": "stream",
     "text": [
      "100%|███████████████████████████████████████| 365/365 [00:00<00:00, 1679.34it/s]\n"
     ]
    },
    {
     "name": "stdout",
     "output_type": "stream",
     "text": [
      "Day6 is completed.\n"
     ]
    },
    {
     "name": "stderr",
     "output_type": "stream",
     "text": [
      "100%|███████████████████████████████████████| 303/303 [00:00<00:00, 1641.46it/s]\n"
     ]
    },
    {
     "name": "stdout",
     "output_type": "stream",
     "text": [
      "Day5 is completed.\n"
     ]
    },
    {
     "name": "stderr",
     "output_type": "stream",
     "text": [
      "100%|███████████████████████████████████████| 326/326 [00:00<00:00, 1646.01it/s]\n"
     ]
    },
    {
     "name": "stdout",
     "output_type": "stream",
     "text": [
      "Day4 is completed.\n"
     ]
    },
    {
     "name": "stderr",
     "output_type": "stream",
     "text": [
      "100%|███████████████████████████████████████| 335/335 [00:00<00:00, 1714.82it/s]\n"
     ]
    },
    {
     "name": "stdout",
     "output_type": "stream",
     "text": [
      "Day3 is completed.\n"
     ]
    },
    {
     "name": "stderr",
     "output_type": "stream",
     "text": [
      "100%|███████████████████████████████████████| 331/331 [00:00<00:00, 1674.62it/s]\n"
     ]
    },
    {
     "name": "stdout",
     "output_type": "stream",
     "text": [
      "Day2 is completed.\n"
     ]
    },
    {
     "name": "stderr",
     "output_type": "stream",
     "text": [
      "100%|███████████████████████████████████████| 331/331 [00:00<00:00, 1707.76it/s]\n"
     ]
    },
    {
     "name": "stdout",
     "output_type": "stream",
     "text": [
      "Day1 is completed.\n"
     ]
    },
    {
     "name": "stderr",
     "output_type": "stream",
     "text": [
      "100%|███████████████████████████████████████| 328/328 [00:00<00:00, 1650.56it/s]\n"
     ]
    },
    {
     "name": "stdout",
     "output_type": "stream",
     "text": [
      "Day12 is completed.\n"
     ]
    },
    {
     "name": "stderr",
     "output_type": "stream",
     "text": [
      "100%|███████████████████████████████████████| 359/359 [00:00<00:00, 1584.20it/s]"
     ]
    },
    {
     "name": "stdout",
     "output_type": "stream",
     "text": [
      "Day8 is completed.\n",
      "The calculation of daily locations is done.\n",
      "7_3\n"
     ]
    },
    {
     "name": "stderr",
     "output_type": "stream",
     "text": [
      "\n"
     ]
    }
   ],
   "source": [
    "daily_home_series=daily_home_location_series(fgrained, 'OUTGOING', 'site',\\\n",
    "                                             approach='scikit_approach', cust_list=None, file_list =flist_test,tower_location=None,df_tower=df_tower)\n"
   ]
  },
  {
   "cell_type": "code",
   "execution_count": 31,
   "id": "77148bb0-ede0-486c-b520-d28d68a5dbe5",
   "metadata": {},
   "outputs": [],
   "source": [
    "daily_home_series=daily_home_series.rename(columns={'date':'time','site_id_caller':'site_id','segment_caller':'segment'})\n",
    "daily_home_series[\"time\"]=pd.to_datetime(daily_home_series['time'], format='%Y%m%d') \n",
    "gdf_districts = read_map_district(district_maps)\n",
    "gdf_districts=df_tower.drop_duplicates(subset=[\"city_district_id\"]).drop(columns=['site_id','city','district']).merge(gdf_districts, on=['city_district'],how='left')\n",
    "daily_home_series=daily_home_series.merge(df_tower[['city_id','city_district_id','site_id']],on='site_id',how='left')"
   ]
  },
  {
   "cell_type": "code",
   "execution_count": 33,
   "id": "289f4c58-43cc-471d-b733-1755c0f8fc40",
   "metadata": {},
   "outputs": [],
   "source": [
    "df_od=o_d_matrix(daily_home_series, 'city', 'week','city','day',time_format='%Y%m%d')\n",
    "weekly_od_matrix=df_od.merge(gdf_districts.drop_duplicates(subset='city').reset_index()[['city_id','city']],right_on='city_id',left_on='destination_loc',how='left')\\\n",
    "    .rename(columns={'city':'destination_city'}).drop(columns=['city_id']).merge(gdf_districts.drop_duplicates(subset='city').reset_index()[['city_id','city']]\\\n",
    "                                                                                  ,right_on='city_id',left_on='origin_loc',how='left').rename(columns={'city':'origin_city'})\n"
   ]
  },
  {
   "cell_type": "code",
   "execution_count": 34,
   "id": "4270f675-f862-4ef7-b6c1-29e6e1dbbf5f",
   "metadata": {},
   "outputs": [
    {
     "data": {
      "text/html": [
       "<div>\n",
       "<style scoped>\n",
       "    .dataframe tbody tr th:only-of-type {\n",
       "        vertical-align: middle;\n",
       "    }\n",
       "\n",
       "    .dataframe tbody tr th {\n",
       "        vertical-align: top;\n",
       "    }\n",
       "\n",
       "    .dataframe thead th {\n",
       "        text-align: right;\n",
       "    }\n",
       "</style>\n",
       "<table border=\"1\" class=\"dataframe\">\n",
       "  <thead>\n",
       "    <tr style=\"text-align: right;\">\n",
       "      <th></th>\n",
       "      <th>week</th>\n",
       "      <th>segment</th>\n",
       "      <th>origin_loc</th>\n",
       "      <th>destination_loc</th>\n",
       "      <th>flow_count</th>\n",
       "    </tr>\n",
       "  </thead>\n",
       "  <tbody>\n",
       "    <tr>\n",
       "      <th>0</th>\n",
       "      <td>2022-52</td>\n",
       "      <td>1</td>\n",
       "      <td>7.0</td>\n",
       "      <td>3.0</td>\n",
       "      <td>1</td>\n",
       "    </tr>\n",
       "    <tr>\n",
       "      <th>1</th>\n",
       "      <td>2022-52</td>\n",
       "      <td>1</td>\n",
       "      <td>27.0</td>\n",
       "      <td>40.0</td>\n",
       "      <td>1</td>\n",
       "    </tr>\n",
       "    <tr>\n",
       "      <th>2</th>\n",
       "      <td>2022-52</td>\n",
       "      <td>1</td>\n",
       "      <td>33.0</td>\n",
       "      <td>42.0</td>\n",
       "      <td>1</td>\n",
       "    </tr>\n",
       "    <tr>\n",
       "      <th>3</th>\n",
       "      <td>2022-52</td>\n",
       "      <td>1</td>\n",
       "      <td>33.0</td>\n",
       "      <td>68.0</td>\n",
       "      <td>1</td>\n",
       "    </tr>\n",
       "    <tr>\n",
       "      <th>4</th>\n",
       "      <td>2022-52</td>\n",
       "      <td>1</td>\n",
       "      <td>40.0</td>\n",
       "      <td>41.0</td>\n",
       "      <td>1</td>\n",
       "    </tr>\n",
       "    <tr>\n",
       "      <th>...</th>\n",
       "      <td>...</td>\n",
       "      <td>...</td>\n",
       "      <td>...</td>\n",
       "      <td>...</td>\n",
       "      <td>...</td>\n",
       "    </tr>\n",
       "    <tr>\n",
       "      <th>446</th>\n",
       "      <td>2023-07</td>\n",
       "      <td>2</td>\n",
       "      <td>33.0</td>\n",
       "      <td>68.0</td>\n",
       "      <td>1</td>\n",
       "    </tr>\n",
       "    <tr>\n",
       "      <th>447</th>\n",
       "      <td>2023-07</td>\n",
       "      <td>2</td>\n",
       "      <td>40.0</td>\n",
       "      <td>21.0</td>\n",
       "      <td>1</td>\n",
       "    </tr>\n",
       "    <tr>\n",
       "      <th>448</th>\n",
       "      <td>2023-07</td>\n",
       "      <td>2</td>\n",
       "      <td>40.0</td>\n",
       "      <td>73.0</td>\n",
       "      <td>1</td>\n",
       "    </tr>\n",
       "    <tr>\n",
       "      <th>449</th>\n",
       "      <td>2023-07</td>\n",
       "      <td>2</td>\n",
       "      <td>48.0</td>\n",
       "      <td>33.0</td>\n",
       "      <td>1</td>\n",
       "    </tr>\n",
       "    <tr>\n",
       "      <th>450</th>\n",
       "      <td>2023-07</td>\n",
       "      <td>2</td>\n",
       "      <td>58.0</td>\n",
       "      <td>1.0</td>\n",
       "      <td>1</td>\n",
       "    </tr>\n",
       "  </tbody>\n",
       "</table>\n",
       "<p>451 rows × 5 columns</p>\n",
       "</div>"
      ],
      "text/plain": [
       "        week  segment  origin_loc  destination_loc  flow_count\n",
       "0    2022-52        1         7.0              3.0           1\n",
       "1    2022-52        1        27.0             40.0           1\n",
       "2    2022-52        1        33.0             42.0           1\n",
       "3    2022-52        1        33.0             68.0           1\n",
       "4    2022-52        1        40.0             41.0           1\n",
       "..       ...      ...         ...              ...         ...\n",
       "446  2023-07        2        33.0             68.0           1\n",
       "447  2023-07        2        40.0             21.0           1\n",
       "448  2023-07        2        40.0             73.0           1\n",
       "449  2023-07        2        48.0             33.0           1\n",
       "450  2023-07        2        58.0              1.0           1\n",
       "\n",
       "[451 rows x 5 columns]"
      ]
     },
     "execution_count": 34,
     "metadata": {},
     "output_type": "execute_result"
    }
   ],
   "source": [
    "df_od"
   ]
  },
  {
   "cell_type": "code",
   "execution_count": null,
   "id": "1fdc4722-7a9a-424e-86f7-f1e6eaf35490",
   "metadata": {},
   "outputs": [],
   "source": []
  },
  {
   "cell_type": "code",
   "execution_count": null,
   "id": "c5da002f-ec14-4af5-833a-578a474315ff",
   "metadata": {},
   "outputs": [],
   "source": [
    "detect_trips(,'city', temporal_granularity='day', time_format='%Y%m%d')"
   ]
  },
  {
   "cell_type": "code",
   "execution_count": null,
   "id": "612a6e55-e7d3-4e96-9f66-c69309ad4729",
   "metadata": {},
   "outputs": [],
   "source": []
  },
  {
   "cell_type": "code",
   "execution_count": null,
   "id": "0a22e7fa-f49e-4100-b183-f5f8202a2560",
   "metadata": {},
   "outputs": [],
   "source": []
  },
  {
   "cell_type": "code",
   "execution_count": null,
   "id": "778b3ff2-d29e-4c00-a2e5-ea69b4f5717c",
   "metadata": {},
   "outputs": [],
   "source": []
  }
 ],
 "metadata": {
  "kernelspec": {
   "display_name": "Python 3 (ipykernel)",
   "language": "python",
   "name": "python3"
  },
  "language_info": {
   "codemirror_mode": {
    "name": "ipython",
    "version": 3
   },
   "file_extension": ".py",
   "mimetype": "text/x-python",
   "name": "python",
   "nbconvert_exporter": "python",
   "pygments_lexer": "ipython3",
   "version": "3.8.18"
  }
 },
 "nbformat": 4,
 "nbformat_minor": 5
}
